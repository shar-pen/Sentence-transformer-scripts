{
 "cells": [
  {
   "cell_type": "code",
   "execution_count": 13,
   "metadata": {},
   "outputs": [
    {
     "name": "stdout",
     "output_type": "stream",
     "text": [
      "SentenceTransformer(\n",
      "  (0): Transformer({'max_seq_length': 512, 'do_lower_case': True}) with Transformer model: BertModel \n",
      "  (1): Pooling({'word_embedding_dimension': 1024, 'pooling_mode_cls_token': True, 'pooling_mode_mean_tokens': False, 'pooling_mode_max_tokens': False, 'pooling_mode_mean_sqrt_len_tokens': False, 'pooling_mode_weightedmean_tokens': False, 'pooling_mode_lasttoken': False, 'include_prompt': True})\n",
      "  (2): Normalize()\n",
      ")\n"
     ]
    }
   ],
   "source": [
    "from sentence_transformers import SentenceTransformer\n",
    "\n",
    "\n",
    "model_name_or_path = '../../cache/officials/bge-large-zh-v1.5'\n",
    "\n",
    "model = SentenceTransformer(model_name_or_path, device='cuda:5')\n",
    "\n",
    "print(model)"
   ]
  },
  {
   "cell_type": "code",
   "execution_count": 8,
   "metadata": {},
   "outputs": [
    {
     "name": "stderr",
     "output_type": "stream",
     "text": [
      "No sentence-transformers model found with name ../../cache/officials/all-MiniLM-L6-v2. Creating a new one with mean pooling.\n"
     ]
    },
    {
     "name": "stdout",
     "output_type": "stream",
     "text": [
      "SentenceTransformer(\n",
      "  (0): Transformer({'max_seq_length': 512, 'do_lower_case': False}) with Transformer model: BertModel \n",
      "  (1): Pooling({'word_embedding_dimension': 384, 'pooling_mode_cls_token': False, 'pooling_mode_mean_tokens': True, 'pooling_mode_max_tokens': False, 'pooling_mode_mean_sqrt_len_tokens': False, 'pooling_mode_weightedmean_tokens': False, 'pooling_mode_lasttoken': False, 'include_prompt': True})\n",
      ")\n"
     ]
    }
   ],
   "source": [
    "from sentence_transformers import SentenceTransformer\n",
    "\n",
    "\n",
    "model_name_or_path = '../../cache/officials/all-MiniLM-L6-v2'\n",
    "\n",
    "model = SentenceTransformer(model_name_or_path, device='cuda:5')\n",
    "\n",
    "print(model)"
   ]
  },
  {
   "cell_type": "code",
   "execution_count": 1,
   "metadata": {},
   "outputs": [],
   "source": [
    "from datasets import load_dataset\n",
    "\n",
    "\n",
    "ds = load_dataset(\"sentence-transformers/stsb\")"
   ]
  },
  {
   "cell_type": "code",
   "execution_count": 3,
   "metadata": {},
   "outputs": [
    {
     "data": {
      "text/plain": [
       "{'sentence1': 'A plane is taking off.',\n",
       " 'sentence2': 'An air plane is taking off.',\n",
       " 'score': 1.0}"
      ]
     },
     "execution_count": 3,
     "metadata": {},
     "output_type": "execute_result"
    }
   ],
   "source": [
    "ds['train'][0]"
   ]
  },
  {
   "cell_type": "code",
   "execution_count": 4,
   "metadata": {},
   "outputs": [],
   "source": [
    "import json\n",
    "from datasets import Dataset\n",
    "\n",
    "def json2triplet(filepath:str):\n",
    "    \n",
    "    l_anchor = []\n",
    "    l_positive = []\n",
    "    l_negative = []\n",
    "    \n",
    "    with open(filepath) as file:\n",
    "        for line in file:\n",
    "            tmp_dict = json.loads(line)\n",
    "            anchor = tmp_dict['query']\n",
    "            for pos in tmp_dict['pos']:\n",
    "                for neg in tmp_dict['neg']:\n",
    "                    l_anchor.append(anchor)\n",
    "                    l_positive.append(pos)\n",
    "                    l_negative.append(neg)\n",
    "                    \n",
    "    data = {\n",
    "        \"anchor\": l_anchor,\n",
    "        \"positive\": l_positive,\n",
    "        \"negative\": l_negative,\n",
    "    }\n",
    "    return data\n",
    "\n",
    "def json2pairswithscore(filepath:str):\n",
    "    \n",
    "    l_sentences_1 = []\n",
    "    l_sentences_2 = []\n",
    "    l_score = []\n",
    "    \n",
    "    with open(filepath) as file:\n",
    "        for line in file:\n",
    "            tmp_dict = json.loads(line)\n",
    "            anchor = tmp_dict['query']\n",
    "            for pos in tmp_dict['pos']:\n",
    "                l_sentences_1.append(anchor)\n",
    "                l_sentences_2.append(pos)\n",
    "                l_score.append(1)\n",
    "            for neg in tmp_dict['neg']:\n",
    "                l_sentences_1.append(anchor)\n",
    "                l_sentences_2.append(neg)\n",
    "                l_score.append(-1)\n",
    "                \n",
    "    data = {\n",
    "        \"sentence1\": l_sentences_1,\n",
    "        \"sentence2\": l_sentences_2,\n",
    "        \"score\": l_score,\n",
    "    }\n",
    "    return data\n",
    "                \n",
    "\n",
    "            \n",
    "\n",
    "file = '/data02/hyzhang10/pengxia2/PrivateCollection/Embedding/data/valid_embedding_and_reranker_data.json'\n",
    "# pairswithscore = json2pairswithscore(file)\n",
    "# train_dataset = Dataset.from_dict(pairswithscore)\n",
    "\n",
    "triplets = json2triplet(file)\n",
    "train_dataset = Dataset.from_dict(triplets)\n",
    "# len(triplets['anchor'])"
   ]
  },
  {
   "cell_type": "code",
   "execution_count": 5,
   "metadata": {},
   "outputs": [
    {
     "data": {
      "text/plain": [
       "Dataset({\n",
       "    features: ['anchor', 'positive', 'negative'],\n",
       "    num_rows: 10868\n",
       "})"
      ]
     },
     "execution_count": 5,
     "metadata": {},
     "output_type": "execute_result"
    }
   ],
   "source": [
    "train_dataset"
   ]
  },
  {
   "cell_type": "code",
   "execution_count": 12,
   "metadata": {},
   "outputs": [
    {
     "data": {
      "text/plain": [
       "{'sentence1': '矢板明夫是如何评价1951年和平解放西藏协议的执行情况？',\n",
       " 'sentence2': '。\\n退役上校吁成台湾特区 矢板明夫：是“自毁长城”\\n \\n \\n \\n \\n \\n \\n \\n \\n \\n \\n \\n 人气: 28\\n \\n \\n 【字号】\\n 大\\xa0\\n 中\\xa0\\n 小\\n \\n \\n \\n 更新: 2022-12-27 8:29 PM \\n \\xa0\\xa0 标签: tags:\\n 矢板明夫, 黄征辉, 统一, 统派 \\n \\n \\r\\n【大纪元2022年12月27日讯】（大纪元记者吴旻洲台湾台北报导）中共持续对台文攻武吓，有部分统派人士认为，台湾应该与中共谈判，以保留台湾民主自由为前提与中共统一。对此，日本产经新闻台北支局长矢板明夫表示，此时与中共谈判等于是签“城下之盟”，将导致以美国为首的国家无法介入、协防台湾，无疑是“自毁长城”。\\n\\r\\n海军军舰舰长黄征辉近日在节目访谈中表示，他认为台湾应该早日和中国统一，成为中华人民共和国的台湾特区。条件是要保持现在台湾民主自由的社会制度、保留军队。如果能够实现的话，台湾将不会有被对方侵略的危险，两岸人民可以安居乐业、共同发展经济。\\n\\r\\n黄征辉认为，台湾需要付出的，只是“更改一个名字”而已，中共得到了面子，台湾得到了里子，何乐而不为？如果将来中共反悔、非要改变台湾的社会制度的话，台湾有军队可以自保。\\n\\r\\n对此，矢板明夫表示，黄征辉的主张并非少数意见，在台湾统派当中有一定市场。他们认为，民生和经济最重要，“何必为了一个名字闹得兵戎相见呢？”但作为一个长期观察中国共产党的媒体人，他认为这样的想法过于一厢情愿了，根本不现实。\\n\\r\\n他表示，今天的台海局势，是对岸的军队随时可能攻打台湾，而台湾的军队并没有任何攻打对岸的计划。台湾如果为了消除对自己的军事威胁，主动去找中共谈判，等于是签“城下之盟”。\\n\\r\\n他说，中共这么多年没有攻打台湾，是因为忌讳以美国为首的国际社会的介入。以现在中共的实力，还不敢与美国抗衡。但城下之盟一旦签下去，台湾问题将彻底变成中国的“内政问题”，国际社会就不能介入，不能再卖武器给台湾，也不能协防台湾。对台湾而言，无疑相当于“自毁长城”。\\n\\r\\n矢板明夫说，和独裁国家签合约，对方基本上不会遵守，他以1951年“和平解放西藏协议”为例，中共根本没有遵守过，而1984年中英就香港问题签署的联合声明，也被中共视为失效的“历史文件”。俄罗斯和乌克兰2014年签署的明斯克协议，今年也被俄罗斯单方面撕毁了。\\n\\r\\n他强调，即便中共表面上遵守承诺，让台湾保留军队。但只要台湾成为中华人民共和国的一部分，将肆无忌惮地透过媒体、教育、司法、黑道等各种手段，全方位地对台湾社会进行渗透、破坏。台湾的民主和自由，将在最短时间内被摧毁。香港自由法治之死，已经做过惨痛的“示范”。\\n\\r\\n另外，对于九合一选举民进党败选，部分媒体操作“抗中保台”成为贬义词。矢板明夫认为，这是一个非常危险的信号。不管任何政党执政，中共永远是台湾的最大威胁，抗中保台对每一个台湾政治人物来说，都应该是最重要的责任。\\n\\r\\n责任编辑：吕美琪\\n \\n \\n \\n \\n 相关文章 \\n \\n \\n 习或终止清零 矢板明夫：恐对学生秋后算账图\\xa02022-12-04谢金河：房产负债如癌末 终将毁灭中国经济图\\xa02022-12-04白纸革命后中共松绑防疫 学者：表面让步图\\xa02022-12-05矢板明夫指台政界纵容黑道 吁引日本经验修法图\\xa02022-12-08矢板明夫：疫情可能给中国社会带来巨大变化图\\xa02022-12-14两岸局势紧张之际 中共再禁大批台湾产品图\\xa02022-12-16陆配返中除籍遭刁难 矢板明夫吁台湾修法图\\xa02022-12-17纷乱世局下 专家展望台湾前景 关注中共认知战图\\xa02022-12-20美扩大晶片禁令 台专家：因中共研发毁灭性武器图\\xa02022-12-19矢板明夫分析败选 中市立委：比民进党透彻图\\xa02022-12-20 \\n \\n \\n \\n',\n",
       " 'score': 1}"
      ]
     },
     "execution_count": 12,
     "metadata": {},
     "output_type": "execute_result"
    }
   ],
   "source": [
    "train_dataset[0]"
   ]
  }
 ],
 "metadata": {
  "kernelspec": {
   "display_name": "xp-nlp",
   "language": "python",
   "name": "python3"
  },
  "language_info": {
   "codemirror_mode": {
    "name": "ipython",
    "version": 3
   },
   "file_extension": ".py",
   "mimetype": "text/x-python",
   "name": "python",
   "nbconvert_exporter": "python",
   "pygments_lexer": "ipython3",
   "version": "3.12.4"
  }
 },
 "nbformat": 4,
 "nbformat_minor": 2
}
